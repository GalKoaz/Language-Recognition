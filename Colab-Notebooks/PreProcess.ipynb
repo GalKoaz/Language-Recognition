{
  "nbformat": 4,
  "nbformat_minor": 0,
  "metadata": {
    "colab": {
      "provenance": [],
      "collapsed_sections": [
        "LFsMSs9HTnGl"
      ],
      "gpuType": "T4"
    },
    "kernelspec": {
      "name": "python3",
      "display_name": "Python 3"
    },
    "language_info": {
      "name": "python"
    },
    "accelerator": "GPU",
    "gpuClass": "standard"
  },
  "cells": [
    {
      "cell_type": "markdown",
      "source": [
        "# Pre Process Data \n"
      ],
      "metadata": {
        "id": "gQu1JB6JTfsf"
      }
    },
    {
      "cell_type": "code",
      "source": [
        "from google.colab import drive\n",
        "drive.mount('/content/drive')"
      ],
      "metadata": {
        "id": "3jZRdsbFVjKm",
        "colab": {
          "base_uri": "https://localhost:8080/"
        },
        "outputId": "78c6a17a-5e48-4ac1-8d9d-37f511098ef4"
      },
      "execution_count": null,
      "outputs": [
        {
          "output_type": "stream",
          "name": "stdout",
          "text": [
            "Mounted at /content/drive\n"
          ]
        }
      ]
    },
    {
      "cell_type": "code",
      "execution_count": null,
      "metadata": {
        "id": "gXmnc_KgTNVn",
        "colab": {
          "base_uri": "https://localhost:8080/"
        },
        "outputId": "1662c364-2cb3-4fda-a8b9-c5ae8a295b55"
      },
      "outputs": [
        {
          "output_type": "stream",
          "name": "stdout",
          "text": [
            "Looking in indexes: https://pypi.org/simple, https://us-python.pkg.dev/colab-wheels/public/simple/\n",
            "Collecting pydub\n",
            "  Downloading pydub-0.25.1-py2.py3-none-any.whl (32 kB)\n",
            "Installing collected packages: pydub\n",
            "Successfully installed pydub-0.25.1\n"
          ]
        }
      ],
      "source": [
        "!pip install pydub"
      ]
    },
    {
      "cell_type": "markdown",
      "source": [
        "## Imports "
      ],
      "metadata": {
        "id": "LFsMSs9HTnGl"
      }
    },
    {
      "cell_type": "code",
      "source": [
        "from pydub import AudioSegment\n",
        "from pydub.silence import split_on_silence"
      ],
      "metadata": {
        "id": "tfDCPE5e_AIk"
      },
      "execution_count": null,
      "outputs": []
    },
    {
      "cell_type": "code",
      "source": [
        "import os\n",
        "import shutil\n",
        "import numpy as np\n",
        "import random\n",
        "import librosa\n",
        "import soundfile as sf\n",
        "from concurrent.futures import ThreadPoolExecutor"
      ],
      "metadata": {
        "id": "60P0ZjJgTktx"
      },
      "execution_count": null,
      "outputs": []
    },
    {
      "cell_type": "markdown",
      "source": [
        "# Duplicate Audio Data \n"
      ],
      "metadata": {
        "id": "nxweE5IjO5ty"
      }
    },
    {
      "cell_type": "code",
      "source": [
        "def duplicate_files_and_folders(source_root, destination_root):\n",
        "    for root, dirs, files in os.walk(source_root):\n",
        "        # Get the relative path from the source root\n",
        "        relative_path = os.path.relpath(root, source_root)\n",
        "\n",
        "        # Create the destination directory path\n",
        "        destination_dir = os.path.join(destination_root, relative_path)\n",
        "\n",
        "        # Create the destination directory if it doesn't exist\n",
        "        os.makedirs(destination_dir, exist_ok=True)\n",
        "\n",
        "        # Copy files to the destination directory\n",
        "        for file in files:\n",
        "            source_file = os.path.join(root, file)\n",
        "            destination_file = os.path.join(destination_dir, file)\n",
        "            shutil.copy2(source_file, destination_file)\n",
        "\n",
        "        # Duplicate subfolders recursively\n",
        "        for subdir in dirs:\n",
        "            source_subdir = os.path.join(root, subdir)\n",
        "            destination_subdir = os.path.join(destination_dir, subdir)\n",
        "            duplicate_files_and_folders(source_subdir, destination_subdir)"
      ],
      "metadata": {
        "id": "6dFPphCBPJFo"
      },
      "execution_count": null,
      "outputs": []
    },
    {
      "cell_type": "code",
      "source": [
        "# source_root = '/content/drive/My Drive/10_languages_media'\n",
        "# destination_root = '/content/drive/My Drive/10_languages_media_reduce_noise'\n",
        "\n",
        "# duplicate_files_and_folders(source_root, destination_root)"
      ],
      "metadata": {
        "id": "uxIkaZ6cQRb6"
      },
      "execution_count": null,
      "outputs": []
    },
    {
      "cell_type": "code",
      "source": [
        "# source_root = '/content/drive/My Drive/10_languages_media'\n",
        "# destination_root = '/content/drive/My Drive/10_languages_media_reduce_noise_and_transformations'\n",
        "\n",
        "# duplicate_files_and_folders(source_root, destination_root)"
      ],
      "metadata": {
        "id": "Lome0McbQSVk"
      },
      "execution_count": null,
      "outputs": []
    },
    {
      "cell_type": "markdown",
      "source": [
        "## Data Transfrom audio\n",
        "\n",
        "1.   Pitch Shift\n",
        "2.   Speed\n",
        "3. gaussian noise\n",
        "4. reduce noise\n",
        "\n",
        "\n",
        "\n"
      ],
      "metadata": {
        "id": "qIziu0N0TzQD"
      }
    },
    {
      "cell_type": "code",
      "source": [
        "def transform_audio(audio_data, sr, n_steps=None, noise_mean=0., noise_std=None, speed_rate=None):\n",
        "    if n_steps is not None:\n",
        "        audio_data = librosa.effects.pitch_shift(audio_data, sr=sr, n_steps=n_steps)\n",
        "    if noise_std is not None:\n",
        "        noise = np.random.normal(noise_mean, noise_std, audio_data.shape)\n",
        "        audio_data = np.clip(audio_data + noise, -1., 1.)\n",
        "    if speed_rate is not None:\n",
        "        audio_data = librosa.effects.time_stretch(audio_data, rate=speed_rate)\n",
        "    return audio_data\n",
        "\n",
        "\n",
        "def convert_mp3_to_wav(file_path):\n",
        "    sound = AudioSegment.from_mp3(file_path)\n",
        "    fname_without_ext = os.path.splitext(file_path)[0]\n",
        "    wav_path = f\"{fname_without_ext}.wav\"\n",
        "    sound.export(wav_path, format=\"wav\")\n",
        "    os.remove(file_path)\n",
        "    return wav_path\n",
        "\n",
        "\n",
        "def reduce_noise(audio_file_path):\n",
        "    audio_file = AudioSegment.from_wav(audio_file_path)\n",
        "    chunks = split_on_silence(audio_file, min_silence_len=1000, silence_thresh=-20)\n",
        "    selected_chunks = [chunk for chunk in chunks if len(chunk) > 0]\n",
        "\n",
        "    if not selected_chunks:\n",
        "        return\n",
        "\n",
        "    new_audio = selected_chunks[0]\n",
        "    for chunk in selected_chunks[1:]:\n",
        "        new_audio += chunk\n",
        "    new_audio.export(audio_file_path, format='wav')\n",
        "\n",
        "\n",
        "def apply_transformations(wav_path, apply_transformations):\n",
        "    if not apply_transformations:\n",
        "        return 0\n",
        "\n",
        "    audio_data, sr = librosa.load(wav_path, sr=None)\n",
        "    fname_without_ext = os.path.splitext(wav_path)[0]\n",
        "\n",
        "    random_float = round(random.uniform(0.0001, 0.005), 4)\n",
        "    audio_data_transformed_noise = transform_audio(audio_data, sr, n_steps=0, noise_mean=0., noise_std=random_float,\n",
        "                                                   speed_rate=1)\n",
        "    output_filename = f\"{fname_without_ext}_noise_{random_float}.wav\"\n",
        "    sf.write(output_filename, audio_data_transformed_noise, sr)\n",
        "\n",
        "    random_float = round(random.uniform(1.0, 1.6), 2)\n",
        "    audio_data_transformed_speed = transform_audio(audio_data, sr, n_steps=0, noise_mean=0., noise_std=0.00,\n",
        "                                                   speed_rate=random_float)\n",
        "    output_filename = f\"{fname_without_ext}_speed_{random_float}.wav\"\n",
        "    sf.write(output_filename, audio_data_transformed_speed, sr)\n",
        "\n",
        "    random_float = round(random.uniform(1.0, 3.0), 2)\n",
        "    audio_data_transformed_pitch = transform_audio(audio_data, sr, n_steps=random_float, noise_mean=0., noise_std=0.00,\n",
        "                                                   speed_rate=1)\n",
        "    output_filename = f\"{fname_without_ext}_pitch_{random_float}.wav\"\n",
        "    sf.write(output_filename, audio_data_transformed_pitch, sr)\n",
        "\n",
        "    return 1\n",
        "\n",
        "\n",
        "def load(rootdir, convert_to_wav=True, reduce_noise_bool=True, apply_transformations_bool=True):\n",
        "    counter = 0\n",
        "    audio_files = []\n",
        "    for dirName, subdirList, fileList in os.walk(rootdir):\n",
        "        print(f'Found directory: {dirName}')\n",
        "        for fname in fileList:\n",
        "            if fname.endswith('.mp3') or fname.endswith('.wav'):\n",
        "                audio_files.append((os.path.join(dirName, fname), 'train' in dirName.lower()))\n",
        "\n",
        "    wav_files = []\n",
        "    with ThreadPoolExecutor() as executor:\n",
        "        if convert_to_wav:\n",
        "            mp3_files = [(file, is_train) for file, is_train in audio_files if file.endswith('.mp3')]\n",
        "            wav_files = list(executor.map(convert_mp3_to_wav, [file for file, _ in mp3_files]))\n",
        "        if reduce_noise_bool:\n",
        "            executor.map(reduce_noise, wav_files if wav_files else [file for file, _ in audio_files])\n",
        "        if apply_transformations_bool:\n",
        "            wav_files = wav_files if wav_files else audio_files\n",
        "            wav_files_in_train_dir = [(file, is_train) for file, is_train in wav_files if is_train]\n",
        "            results = executor.map(lambda file: apply_transformations(file[0], True), wav_files_in_train_dir)\n",
        "            counter = sum(results)\n",
        "\n",
        "    print('=============================')\n",
        "    print(f'Total Data files processed: {counter}')\n",
        "    print('=============================')"
      ],
      "metadata": {
        "id": "6VlqAVCYTyYf"
      },
      "execution_count": null,
      "outputs": []
    },
    {
      "cell_type": "code",
      "source": [
        "# print('/content/drive/My Drive/10_languages_media/')\n",
        "# rootDir = '/content/drive/My Drive/10_languages_media/'\n",
        "# load(rootDir, True, False, False)\n",
        "\n",
        "# print('/content/drive/My Drive/10_languages_media_reduce_noise')\n",
        "# rootDir = '/content/drive/My Drive/10_languages_media_reduce_noise'\n",
        "# load(rootDir, True, True, False)\n",
        "\n",
        "print('/content/drive/My Drive/10_lang_reupload')\n",
        "rootDir = '/content/drive/My Drive/10_lang_reupload'\n",
        "load(rootDir, True, False, False)"
      ],
      "metadata": {
        "id": "bjIAqie2VyWB",
        "colab": {
          "base_uri": "https://localhost:8080/"
        },
        "outputId": "6f64ae8e-37b9-486b-cc25-0c68a05a66cd"
      },
      "execution_count": null,
      "outputs": [
        {
          "output_type": "stream",
          "name": "stdout",
          "text": [
            "/content/drive/My Drive/10_lang_reupload\n",
            "Found directory: /content/drive/My Drive/10_lang_reupload\n",
            "Found directory: /content/drive/My Drive/10_lang_reupload/clips_fa\n",
            "Found directory: /content/drive/My Drive/10_lang_reupload/clips_fa/validate\n",
            "Found directory: /content/drive/My Drive/10_lang_reupload/clips_fa/test\n",
            "Found directory: /content/drive/My Drive/10_lang_reupload/clips_fa/train\n",
            "Found directory: /content/drive/My Drive/10_lang_reupload/clips_th\n",
            "Found directory: /content/drive/My Drive/10_lang_reupload/clips_th/validate\n",
            "Found directory: /content/drive/My Drive/10_lang_reupload/clips_th/test\n",
            "Found directory: /content/drive/My Drive/10_lang_reupload/clips_th/train\n",
            "Found directory: /content/drive/My Drive/10_lang_reupload/clips_ru\n",
            "Found directory: /content/drive/My Drive/10_lang_reupload/clips_ru/train\n",
            "Found directory: /content/drive/My Drive/10_lang_reupload/clips_ru/test\n",
            "Found directory: /content/drive/My Drive/10_lang_reupload/clips_ru/validate\n",
            "Found directory: /content/drive/My Drive/10_lang_reupload/clips_it\n",
            "Found directory: /content/drive/My Drive/10_lang_reupload/clips_it/validate\n",
            "Found directory: /content/drive/My Drive/10_lang_reupload/clips_it/train\n",
            "Found directory: /content/drive/My Drive/10_lang_reupload/clips_it/test\n",
            "Found directory: /content/drive/My Drive/10_lang_reupload/clips_es\n",
            "Found directory: /content/drive/My Drive/10_lang_reupload/clips_es/test\n",
            "Found directory: /content/drive/My Drive/10_lang_reupload/clips_es/validate\n",
            "Found directory: /content/drive/My Drive/10_lang_reupload/clips_es/train\n",
            "Found directory: /content/drive/My Drive/10_lang_reupload/clips_ja\n",
            "Found directory: /content/drive/My Drive/10_lang_reupload/clips_ja/test\n",
            "Found directory: /content/drive/My Drive/10_lang_reupload/clips_ja/train\n",
            "Found directory: /content/drive/My Drive/10_lang_reupload/clips_ja/validate\n",
            "Found directory: /content/drive/My Drive/10_lang_reupload/clips_ar\n",
            "Found directory: /content/drive/My Drive/10_lang_reupload/clips_ar/train\n",
            "Found directory: /content/drive/My Drive/10_lang_reupload/clips_ar/validate\n",
            "Found directory: /content/drive/My Drive/10_lang_reupload/clips_ar/test\n",
            "Found directory: /content/drive/My Drive/10_lang_reupload/clips_zhCN\n",
            "Found directory: /content/drive/My Drive/10_lang_reupload/clips_zhCN/train\n",
            "Found directory: /content/drive/My Drive/10_lang_reupload/clips_zhCN/test\n",
            "Found directory: /content/drive/My Drive/10_lang_reupload/clips_zhCN/validate\n",
            "Found directory: /content/drive/My Drive/10_lang_reupload/clips_fr\n",
            "Found directory: /content/drive/My Drive/10_lang_reupload/clips_fr/test\n",
            "Found directory: /content/drive/My Drive/10_lang_reupload/clips_fr/train\n",
            "Found directory: /content/drive/My Drive/10_lang_reupload/clips_fr/validate\n",
            "Found directory: /content/drive/My Drive/10_lang_reupload/clips_ha\n",
            "Found directory: /content/drive/My Drive/10_lang_reupload/clips_ha/test\n",
            "Found directory: /content/drive/My Drive/10_lang_reupload/clips_ha/train\n",
            "Found directory: /content/drive/My Drive/10_lang_reupload/clips_ha/validate\n",
            "=============================\n",
            "Total Data files processed: 0\n",
            "=============================\n"
          ]
        }
      ]
    },
    {
      "cell_type": "code",
      "source": [
        "import os\n",
        "\n",
        "def delete_wav_files(root_folder):\n",
        "    for root, dirs, files in os.walk(root_folder):\n",
        "        for file in files:\n",
        "            if file.endswith('.wav'):\n",
        "                file_path = os.path.join(root, file)\n",
        "                os.remove(file_path)\n",
        "\n",
        "\n",
        "def delete_wav_files_recursive(root_folder):\n",
        "    for root, dirs, files in os.walk(root_folder):\n",
        "        for file in files:\n",
        "            if file.endswith('.wav'):\n",
        "                file_path = os.path.join(root, file)\n",
        "                os.remove(file_path)\n",
        "        \n",
        "        for subdir in dirs:\n",
        "            subdir_path = os.path.join(root, subdir)\n",
        "            delete_wav_files_recursive(subdir_path)\n",
        "\n",
        "\n",
        "root_folder = '/content/drive/My Drive/10_languages_media/'\n",
        "\n",
        "# # Delete only WAV files in the root folder\n",
        "# delete_wav_files(root_folder)\n",
        "\n",
        "# Delete WAV files recursively in the root folder and all subdirectories\n",
        "delete_wav_files_recursive(root_folder)\n"
      ],
      "metadata": {
        "id": "R2OWsuv1atKU",
        "colab": {
          "base_uri": "https://localhost:8080/",
          "height": 346
        },
        "outputId": "1a40b90e-9109-4bd5-e6d0-1605dec42b1f"
      },
      "execution_count": null,
      "outputs": [
        {
          "output_type": "error",
          "ename": "KeyboardInterrupt",
          "evalue": "ignored",
          "traceback": [
            "\u001b[0;31m---------------------------------------------------------------------------\u001b[0m",
            "\u001b[0;31mKeyboardInterrupt\u001b[0m                         Traceback (most recent call last)",
            "\u001b[0;32m<ipython-input-3-65a1e1a7d3a6>\u001b[0m in \u001b[0;36m<cell line: 29>\u001b[0;34m()\u001b[0m\n\u001b[1;32m     27\u001b[0m \u001b[0;34m\u001b[0m\u001b[0m\n\u001b[1;32m     28\u001b[0m \u001b[0;31m# Delete WAV files recursively in the root folder and all subdirectories\u001b[0m\u001b[0;34m\u001b[0m\u001b[0;34m\u001b[0m\u001b[0m\n\u001b[0;32m---> 29\u001b[0;31m \u001b[0mdelete_wav_files_recursive\u001b[0m\u001b[0;34m(\u001b[0m\u001b[0mroot_folder\u001b[0m\u001b[0;34m)\u001b[0m\u001b[0;34m\u001b[0m\u001b[0;34m\u001b[0m\u001b[0m\n\u001b[0m",
            "\u001b[0;32m<ipython-input-3-65a1e1a7d3a6>\u001b[0m in \u001b[0;36mdelete_wav_files_recursive\u001b[0;34m(root_folder)\u001b[0m\n\u001b[1;32m     18\u001b[0m         \u001b[0;32mfor\u001b[0m \u001b[0msubdir\u001b[0m \u001b[0;32min\u001b[0m \u001b[0mdirs\u001b[0m\u001b[0;34m:\u001b[0m\u001b[0;34m\u001b[0m\u001b[0;34m\u001b[0m\u001b[0m\n\u001b[1;32m     19\u001b[0m             \u001b[0msubdir_path\u001b[0m \u001b[0;34m=\u001b[0m \u001b[0mos\u001b[0m\u001b[0;34m.\u001b[0m\u001b[0mpath\u001b[0m\u001b[0;34m.\u001b[0m\u001b[0mjoin\u001b[0m\u001b[0;34m(\u001b[0m\u001b[0mroot\u001b[0m\u001b[0;34m,\u001b[0m \u001b[0msubdir\u001b[0m\u001b[0;34m)\u001b[0m\u001b[0;34m\u001b[0m\u001b[0;34m\u001b[0m\u001b[0m\n\u001b[0;32m---> 20\u001b[0;31m             \u001b[0mdelete_wav_files_recursive\u001b[0m\u001b[0;34m(\u001b[0m\u001b[0msubdir_path\u001b[0m\u001b[0;34m)\u001b[0m\u001b[0;34m\u001b[0m\u001b[0;34m\u001b[0m\u001b[0m\n\u001b[0m\u001b[1;32m     21\u001b[0m \u001b[0;34m\u001b[0m\u001b[0m\n\u001b[1;32m     22\u001b[0m \u001b[0;34m\u001b[0m\u001b[0m\n",
            "\u001b[0;32m<ipython-input-3-65a1e1a7d3a6>\u001b[0m in \u001b[0;36mdelete_wav_files_recursive\u001b[0;34m(root_folder)\u001b[0m\n\u001b[1;32m     18\u001b[0m         \u001b[0;32mfor\u001b[0m \u001b[0msubdir\u001b[0m \u001b[0;32min\u001b[0m \u001b[0mdirs\u001b[0m\u001b[0;34m:\u001b[0m\u001b[0;34m\u001b[0m\u001b[0;34m\u001b[0m\u001b[0m\n\u001b[1;32m     19\u001b[0m             \u001b[0msubdir_path\u001b[0m \u001b[0;34m=\u001b[0m \u001b[0mos\u001b[0m\u001b[0;34m.\u001b[0m\u001b[0mpath\u001b[0m\u001b[0;34m.\u001b[0m\u001b[0mjoin\u001b[0m\u001b[0;34m(\u001b[0m\u001b[0mroot\u001b[0m\u001b[0;34m,\u001b[0m \u001b[0msubdir\u001b[0m\u001b[0;34m)\u001b[0m\u001b[0;34m\u001b[0m\u001b[0;34m\u001b[0m\u001b[0m\n\u001b[0;32m---> 20\u001b[0;31m             \u001b[0mdelete_wav_files_recursive\u001b[0m\u001b[0;34m(\u001b[0m\u001b[0msubdir_path\u001b[0m\u001b[0;34m)\u001b[0m\u001b[0;34m\u001b[0m\u001b[0;34m\u001b[0m\u001b[0m\n\u001b[0m\u001b[1;32m     21\u001b[0m \u001b[0;34m\u001b[0m\u001b[0m\n\u001b[1;32m     22\u001b[0m \u001b[0;34m\u001b[0m\u001b[0m\n",
            "\u001b[0;32m<ipython-input-3-65a1e1a7d3a6>\u001b[0m in \u001b[0;36mdelete_wav_files_recursive\u001b[0;34m(root_folder)\u001b[0m\n\u001b[1;32m     10\u001b[0m \u001b[0;34m\u001b[0m\u001b[0m\n\u001b[1;32m     11\u001b[0m \u001b[0;32mdef\u001b[0m \u001b[0mdelete_wav_files_recursive\u001b[0m\u001b[0;34m(\u001b[0m\u001b[0mroot_folder\u001b[0m\u001b[0;34m)\u001b[0m\u001b[0;34m:\u001b[0m\u001b[0;34m\u001b[0m\u001b[0;34m\u001b[0m\u001b[0m\n\u001b[0;32m---> 12\u001b[0;31m     \u001b[0;32mfor\u001b[0m \u001b[0mroot\u001b[0m\u001b[0;34m,\u001b[0m \u001b[0mdirs\u001b[0m\u001b[0;34m,\u001b[0m \u001b[0mfiles\u001b[0m \u001b[0;32min\u001b[0m \u001b[0mos\u001b[0m\u001b[0;34m.\u001b[0m\u001b[0mwalk\u001b[0m\u001b[0;34m(\u001b[0m\u001b[0mroot_folder\u001b[0m\u001b[0;34m)\u001b[0m\u001b[0;34m:\u001b[0m\u001b[0;34m\u001b[0m\u001b[0;34m\u001b[0m\u001b[0m\n\u001b[0m\u001b[1;32m     13\u001b[0m         \u001b[0;32mfor\u001b[0m \u001b[0mfile\u001b[0m \u001b[0;32min\u001b[0m \u001b[0mfiles\u001b[0m\u001b[0;34m:\u001b[0m\u001b[0;34m\u001b[0m\u001b[0;34m\u001b[0m\u001b[0m\n\u001b[1;32m     14\u001b[0m             \u001b[0;32mif\u001b[0m \u001b[0mfile\u001b[0m\u001b[0;34m.\u001b[0m\u001b[0mendswith\u001b[0m\u001b[0;34m(\u001b[0m\u001b[0;34m'.wav'\u001b[0m\u001b[0;34m)\u001b[0m\u001b[0;34m:\u001b[0m\u001b[0;34m\u001b[0m\u001b[0;34m\u001b[0m\u001b[0m\n",
            "\u001b[0;32m/usr/lib/python3.10/os.py\u001b[0m in \u001b[0;36m_walk\u001b[0;34m(top, topdown, onerror, followlinks)\u001b[0m\n\u001b[1;32m    356\u001b[0m         \u001b[0;31m# Note that scandir is global in this module due\u001b[0m\u001b[0;34m\u001b[0m\u001b[0;34m\u001b[0m\u001b[0m\n\u001b[1;32m    357\u001b[0m         \u001b[0;31m# to earlier import-*.\u001b[0m\u001b[0;34m\u001b[0m\u001b[0;34m\u001b[0m\u001b[0m\n\u001b[0;32m--> 358\u001b[0;31m         \u001b[0mscandir_it\u001b[0m \u001b[0;34m=\u001b[0m \u001b[0mscandir\u001b[0m\u001b[0;34m(\u001b[0m\u001b[0mtop\u001b[0m\u001b[0;34m)\u001b[0m\u001b[0;34m\u001b[0m\u001b[0;34m\u001b[0m\u001b[0m\n\u001b[0m\u001b[1;32m    359\u001b[0m     \u001b[0;32mexcept\u001b[0m \u001b[0mOSError\u001b[0m \u001b[0;32mas\u001b[0m \u001b[0merror\u001b[0m\u001b[0;34m:\u001b[0m\u001b[0;34m\u001b[0m\u001b[0;34m\u001b[0m\u001b[0m\n\u001b[1;32m    360\u001b[0m         \u001b[0;32mif\u001b[0m \u001b[0monerror\u001b[0m \u001b[0;32mis\u001b[0m \u001b[0;32mnot\u001b[0m \u001b[0;32mNone\u001b[0m\u001b[0;34m:\u001b[0m\u001b[0;34m\u001b[0m\u001b[0;34m\u001b[0m\u001b[0m\n",
            "\u001b[0;31mKeyboardInterrupt\u001b[0m: "
          ]
        }
      ]
    },
    {
      "cell_type": "markdown",
      "source": [
        "## Data Creator txt"
      ],
      "metadata": {
        "id": "U2DqCMd3U-8d"
      }
    },
    {
      "cell_type": "code",
      "source": [
        "def create_path_files(root_folder, output_folder):\n",
        "\n",
        "    # Create output folder if it doesn't exist\n",
        "    os.makedirs(output_folder, exist_ok=True)\n",
        "    \n",
        "    train_file = os.path.join(output_folder, 'train_10_lang.txt')\n",
        "    test_file = os.path.join(output_folder, 'test_10_lang.txt')\n",
        "    validation_file = os.path.join(output_folder, 'validation_10_lang.txt')\n",
        "\n",
        "    train_subfolders = []\n",
        "    test_subfolders = []\n",
        "    validation_subfolders = []\n",
        "    counter_label = 0\n",
        "\n",
        "    lang_label_dict = {}\n",
        "\n",
        "    for folder_lang in os.listdir(root_folder):\n",
        "        sub_folder = os.path.join(root_folder, folder_lang)\n",
        "        if os.path.isdir(sub_folder):\n",
        "\n",
        "            for subsub_folder in os.listdir(sub_folder):\n",
        "                subsub_folder_path = os.path.join(sub_folder, subsub_folder)\n",
        "                if os.path.isdir(subsub_folder_path):\n",
        "\n",
        "                    if subsub_folder == 'train':\n",
        "                        for root, _, files in os.walk(subsub_folder_path):\n",
        "                            for file in files:\n",
        "                                file_path = os.path.join(root, file)\n",
        "                                path_label = file_path + ' ' + str(counter_label)\n",
        "                                train_subfolders.append(path_label)\n",
        "                    elif subsub_folder == 'test':\n",
        "                        for root, _, files in os.walk(subsub_folder_path):\n",
        "                            for file in files:\n",
        "                                file_path = os.path.join(root, file)\n",
        "                                path_label = file_path + ' ' + str(counter_label)\n",
        "                                test_subfolders.append(path_label)\n",
        "                    elif subsub_folder == 'validate':\n",
        "                        for root, _, files in os.walk(subsub_folder_path):\n",
        "                            for file in files:\n",
        "                                file_path = os.path.join(root, file)\n",
        "                                path_label = file_path + ' ' + str(counter_label)\n",
        "                                validation_subfolders.append(path_label)\n",
        "        lang_label_dict[folder_lang] = counter_label\n",
        "        counter_label += 1\n",
        "\n",
        "    with open(train_file, 'w') as file:\n",
        "        file.write('\\n'.join(train_subfolders))\n",
        "\n",
        "    with open(test_file, 'w') as file:\n",
        "        file.write('\\n'.join(test_subfolders))\n",
        "\n",
        "    with open(validation_file, 'w') as file:\n",
        "        file.write('\\n'.join(validation_subfolders))\n",
        "\n",
        "    print(\"======================================\")\n",
        "    print(\"Txt files updated successfully!\")\n",
        "    print(f'Total labels: {counter_label}')\n",
        "    print(f'Lang dict: {lang_label_dict}')\n",
        "    print(\"======================================\")"
      ],
      "metadata": {
        "id": "beD4JQsGVC9d"
      },
      "execution_count": null,
      "outputs": []
    },
    {
      "cell_type": "code",
      "source": [
        "root_folder_path = '/content/drive/My Drive/10_languages_media_reduce_noise_and_transformations/'\n",
        "output_folder_path = '/content/drive/My Drive/10_languages_reduce_noise_meta_and_transformations/'\n",
        "create_path_files(root_folder_path, output_folder_path)"
      ],
      "metadata": {
        "id": "0VvZ2_LgVIVq",
        "colab": {
          "base_uri": "https://localhost:8080/"
        },
        "outputId": "0a9f263b-2012-4d4d-a540-cb94cf7331df"
      },
      "execution_count": null,
      "outputs": [
        {
          "output_type": "stream",
          "name": "stdout",
          "text": [
            "======================================\n",
            "Txt files updated successfully!\n",
            "Total labels: 10\n",
            "Lang dict: {'clips_th': 0, 'clips_ru': 1, 'clips_ja': 2, 'clips_ha': 3, 'clips_fa': 4, 'clips_ar': 5, 'clips_es': 6, 'clips_zhCN': 7, 'clips_fr': 8, 'clips_it': 9}\n",
            "======================================\n"
          ]
        }
      ]
    }
  ]
}