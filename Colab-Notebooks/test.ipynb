{
  "cells": [
    {
      "cell_type": "markdown",
      "metadata": {
        "id": "tyVD3AVqg_mT"
      },
      "source": [
        "# **Model Version: 0.1**\n"
      ]
    },
    {
      "cell_type": "code",
      "execution_count": 1,
      "metadata": {
        "id": "2vh7_3cunTO9",
        "colab": {
          "base_uri": "https://localhost:8080/"
        },
        "outputId": "772d7e7a-9c5e-484a-a5f3-e842c526734f"
      },
      "outputs": [
        {
          "output_type": "stream",
          "name": "stdout",
          "text": [
            "Mounted at /content/drive\n"
          ]
        }
      ],
      "source": [
        "from google.colab import drive\n",
        "drive.mount('/content/drive')"
      ]
    },
    {
      "cell_type": "markdown",
      "metadata": {
        "id": "c146e5-shGBG"
      },
      "source": [
        "### ***Imports***"
      ]
    },
    {
      "cell_type": "code",
      "execution_count": 2,
      "metadata": {
        "id": "zWtXTHyDhL1k"
      },
      "outputs": [],
      "source": [
        "import torch.nn as nn\n",
        "import torch\n",
        "import torch.nn.functional as F\n",
        "import os\n",
        "import numpy as np\n",
        "import librosa\n",
        "import random\n",
        "from torch.utils.data import DataLoader\n",
        "from torch import optim\n",
        "import argparse\n",
        "from sklearn.metrics import accuracy_score"
      ]
    },
    {
      "cell_type": "markdown",
      "metadata": {
        "id": "rcpi_IJdhLAL"
      },
      "source": [
        "### **Models**"
      ]
    },
    {
      "cell_type": "code",
      "execution_count": 3,
      "metadata": {
        "id": "IA3-UdhFhCZN"
      },
      "outputs": [],
      "source": [
        "class TDNN(nn.Module):\n",
        "    \n",
        "    def __init__(\n",
        "                    self, \n",
        "                    input_dim=23, \n",
        "                    output_dim=512,\n",
        "                    context_size=5,\n",
        "                    stride=1,\n",
        "                    dilation=1,\n",
        "                    batch_norm=False,\n",
        "                    dropout_p=0.2\n",
        "                ):\n",
        "        '''\n",
        "        TDNN as defined by https://www.danielpovey.com/files/2015_interspeech_multisplice.pdf\n",
        "\n",
        "        Affine transformation not applied globally to all frames but smaller windows with local context\n",
        "\n",
        "        batch_norm: True to include batch normalisation after the non linearity\n",
        "        \n",
        "        Context size and dilation determine the frames selected\n",
        "        (although context size is not really defined in the traditional sense)\n",
        "        For example:\n",
        "            context size 5 and dilation 1 is equivalent to [-2,-1,0,1,2]\n",
        "            context size 3 and dilation 2 is equivalent to [-2, 0, 2]\n",
        "            context size 1 and dilation 1 is equivalent to [0]\n",
        "        '''\n",
        "        super(TDNN, self).__init__()\n",
        "        self.context_size = context_size\n",
        "        self.stride = stride\n",
        "        self.input_dim = input_dim\n",
        "        self.output_dim = output_dim\n",
        "        self.dilation = dilation\n",
        "        self.dropout_p = dropout_p\n",
        "        self.batch_norm = batch_norm\n",
        "      \n",
        "        self.kernel = nn.Linear(input_dim*context_size, output_dim)\n",
        "        self.nonlinearity = nn.ReLU()\n",
        "        if self.batch_norm:\n",
        "            self.bn = nn.BatchNorm1d(output_dim)\n",
        "        if self.dropout_p:\n",
        "            self.drop = nn.Dropout(p=self.dropout_p)\n",
        "        \n",
        "    def forward(self, x):\n",
        "        '''\n",
        "        input: size (batch, seq_len, input_features)\n",
        "        outpu: size (batch, new_seq_len, output_features)\n",
        "        '''\n",
        "        \n",
        "        _, _, d = x.shape\n",
        "        assert (d == self.input_dim), 'Input dimension was wrong. Expected ({}), got ({})'.format(self.input_dim, d)\n",
        "        x = x.unsqueeze(1)\n",
        "\n",
        "        # Unfold input into smaller temporal contexts\n",
        "        x = F.unfold(\n",
        "                        x, \n",
        "                        (self.context_size, self.input_dim), \n",
        "                        stride=(1,self.input_dim), \n",
        "                        dilation=(self.dilation,1)\n",
        "                    )\n",
        "\n",
        "        # N, output_dim*context_size, new_t = x.shape\n",
        "        x = x.transpose(1,2)\n",
        "        x = self.kernel(x.float())\n",
        "        x = self.nonlinearity(x)\n",
        "        \n",
        "        if self.dropout_p:\n",
        "            x = self.drop(x)\n",
        "\n",
        "        if self.batch_norm:\n",
        "            x = x.transpose(1,2)\n",
        "            x = self.bn(x)\n",
        "            x = x.transpose(1,2)\n",
        "\n",
        "        return x"
      ]
    },
    {
      "cell_type": "code",
      "execution_count": 4,
      "metadata": {
        "id": "GhX96WM1hbCD"
      },
      "outputs": [],
      "source": [
        "class X_vector(nn.Module):\n",
        "    def __init__(self, input_dim = 40, num_classes=10):\n",
        "        super(X_vector, self).__init__()\n",
        "        self.tdnn1 = TDNN(input_dim=input_dim, output_dim=1280, context_size=3, dilation=2,dropout_p=0.5)\n",
        "        self.tdnn2 = TDNN(input_dim=1280, output_dim=1280, context_size=1, dilation=1,dropout_p=0.5)\n",
        "        self.tdnn3 = TDNN(input_dim=1280, output_dim=1024, context_size=5, dilation=2,dropout_p=0.5)\n",
        "        self.tdnn4 = TDNN(input_dim=1024, output_dim=1024, context_size=1, dilation=1,dropout_p=0.5)\n",
        "        self.tdnn5 = TDNN(input_dim=1024, output_dim=768, context_size=2, dilation=1,dropout_p=0.5)\n",
        "        self.tdnn6 = TDNN(input_dim=768, output_dim=512, context_size=1, dilation=1,dropout_p=0.5)\n",
        "        self.tdnn7 = TDNN(input_dim=512, output_dim=256, context_size=1, dilation=3,dropout_p=0.5)\n",
        "        #### Frame levelPooling\n",
        "        self.segment8 = nn.Linear(512, 512)\n",
        "        self.segment9 = nn.Linear(512, 512)\n",
        "        self.output = nn.Linear(512, num_classes)\n",
        "        self.softmax = nn.Softmax(dim=1)\n",
        "    def forward(self, inputs):\n",
        "        tdnn1_out = self.tdnn1(inputs)\n",
        "        return tdnn1_out\n",
        "        tdnn2_out = self.tdnn2(tdnn1_out)\n",
        "        tdnn3_out = self.tdnn3(tdnn2_out)\n",
        "        tdnn4_out = self.tdnn4(tdnn3_out)\n",
        "        tdnn5_out = self.tdnn5(tdnn4_out)\n",
        "        tdnn6_out = self.tdnn6(tdnn5_out)\n",
        "        tdnn7_out = self.tdnn7(tdnn6_out)\n",
        "        ### Stat Pool\n",
        "        mean = torch.mean(tdnn7_out,1)\n",
        "        std = torch.std(tdnn7_out,1)\n",
        "        stat_pooling = torch.cat((mean,std),1)\n",
        "        segment8_out = self.segment8(stat_pooling)\n",
        "        x_vec = self.segment9(segment8_out)\n",
        "        predictions = self.softmax(self.output(x_vec))\n",
        "        return predictions,x_vec"
      ]
    },
    {
      "cell_type": "code",
      "execution_count": 5,
      "metadata": {
        "id": "yiZdP05khlC3"
      },
      "outputs": [],
      "source": [
        "class X_vector(nn.Module):\n",
        "    def __init__(self, input_dim = 40, num_classes=10):\n",
        "        super(X_vector, self).__init__()\n",
        "        self.tdnn1 = TDNN(input_dim=input_dim, output_dim=1280, context_size=3, dilation=2,dropout_p=0.5)\n",
        "        self.tdnn2 = TDNN(input_dim=1280, output_dim=1280, context_size=1, dilation=1,dropout_p=0.5)\n",
        "        self.tdnn3 = TDNN(input_dim=1280, output_dim=1024, context_size=5, dilation=2,dropout_p=0.5)\n",
        "        self.tdnn4 = TDNN(input_dim=1024, output_dim=1024, context_size=1, dilation=1,dropout_p=0.5)\n",
        "        self.tdnn5 = TDNN(input_dim=1024, output_dim=768, context_size=2, dilation=1,dropout_p=0.5)\n",
        "        self.tdnn6 = TDNN(input_dim=768, output_dim=512, context_size=1, dilation=1,dropout_p=0.5)\n",
        "        self.tdnn7 = TDNN(input_dim=512, output_dim=256, context_size=1, dilation=3,dropout_p=0.5)\n",
        "        #### Frame levelPooling\n",
        "        self.segment8 = nn.Linear(512, 512)\n",
        "        self.segment9 = nn.Linear(512, 512)\n",
        "        self.output = nn.Linear(512, num_classes)\n",
        "        self.softmax = nn.Softmax(dim=1)\n",
        "    def forward(self, inputs):\n",
        "        tdnn1_out = self.tdnn1(inputs)\n",
        "        tdnn2_out = self.tdnn2(tdnn1_out)\n",
        "        tdnn3_out = self.tdnn3(tdnn2_out)\n",
        "        tdnn4_out = self.tdnn4(tdnn3_out)\n",
        "        tdnn5_out = self.tdnn5(tdnn4_out)\n",
        "        tdnn6_out = self.tdnn6(tdnn5_out)\n",
        "        tdnn7_out = self.tdnn7(tdnn6_out)\n",
        "        ### Stat Pool\n",
        "        \n",
        "        mean = torch.mean(tdnn7_out,1)\n",
        "        std = torch.std(tdnn7_out,1)\n",
        "        stat_pooling = torch.cat((mean,std),1)\n",
        "        segment8_out = self.segment8(stat_pooling)\n",
        "        x_vec = self.segment9(segment8_out)\n",
        "        predictions = self.output(x_vec)\n",
        "        return predictions,x_vec"
      ]
    },
    {
      "cell_type": "markdown",
      "metadata": {
        "id": "UmFsaK-ijzkT"
      },
      "source": [
        "### Utiles "
      ]
    },
    {
      "cell_type": "code",
      "execution_count": 6,
      "metadata": {
        "id": "gV8XI7_4jUAH"
      },
      "outputs": [],
      "source": [
        "def load_wav(audio_filepath, sr, min_dur_sec=4):\n",
        "    audio_data,fs  = librosa.load(audio_filepath,sr=16000)\n",
        "    len_file = len(audio_data)\n",
        "    \n",
        "    if len_file <int(min_dur_sec*sr):\n",
        "        dummy=np.zeros((1,int(min_dur_sec*sr)-len_file))\n",
        "        extened_wav = np.concatenate((audio_data,dummy[0]))\n",
        "    else:\n",
        "        \n",
        "        extened_wav = audio_data\n",
        "    return extened_wav\n",
        "\n",
        "\n",
        "def lin_mel_from_wav(wav, hop_length, win_length, n_mels):\n",
        "    linear = librosa.feature.melspectrogram(wav, n_mels=n_mels, win_length=win_length, hop_length=hop_length) # linear spectrogram\n",
        "    return linear.T\n",
        "\n",
        "def lin_spectogram_from_wav(wav, hop_length, win_length, n_fft=512):\n",
        "    linear = librosa.stft(wav, n_fft=n_fft, win_length=win_length, hop_length=hop_length) # linear spectrogram\n",
        "    return linear.T\n",
        "\n",
        "\n",
        "def feature_extraction(filepath,sr=16000, min_dur_sec=4,win_length=400,hop_length=160, n_mels=40, spec_len=400,mode='train'):\n",
        "    audio_data = load_wav(filepath, sr=sr,min_dur_sec=min_dur_sec)\n",
        "    linear_spect = lin_spectogram_from_wav(audio_data, hop_length, win_length, n_fft=512)\n",
        "    mag, _ = librosa.magphase(linear_spect)  # magnitude\n",
        "    mag_T = mag.T\n",
        "    mu = np.mean(mag_T, 0, keepdims=True)\n",
        "    std = np.std(mag_T, 0, keepdims=True)\n",
        "    return (mag_T - mu) / (std + 1e-5)\n",
        "    \n",
        "    \n",
        "    \n",
        "    \n",
        "def load_data(filepath,sr=16000, min_dur_sec=4,win_length=400,hop_length=160, n_mels=40, spec_len=400,mode='train'):\n",
        "    audio_data = load_wav(filepath, sr=sr,min_dur_sec=min_dur_sec)\n",
        "    #linear_spect = lin_spectogram_from_wav(audio_data, hop_length, win_length, n_mels)\n",
        "    linear_spect = lin_spectogram_from_wav(audio_data, hop_length, win_length, n_fft=512)\n",
        "    mag, _ = librosa.magphase(linear_spect)  # magnitude\n",
        "    mag_T = mag.T\n",
        "    \n",
        "    if mode=='train':\n",
        "        randtime = np.random.randint(0, mag_T.shape[1]-spec_len)\n",
        "        spec_mag = mag_T[:, randtime:randtime+spec_len]\n",
        "    else:\n",
        "        spec_mag = mag_T\n",
        "    \n",
        "    # preprocessing, subtract mean, divided by time-wise var\n",
        "    mu = np.mean(spec_mag, 0, keepdims=True)\n",
        "    std = np.std(spec_mag, 0, keepdims=True)\n",
        "    return (spec_mag - mu) / (std + 1e-5)\n",
        "    \n",
        "\n",
        "\n",
        "def load_npy_data(filepath,spec_len=400,mode='train'):\n",
        "    mag_T = np.load(filepath)\n",
        "    if mode=='train':\n",
        "        randtime = np.random.randint(0, mag_T.shape[1]-spec_len)\n",
        "        spec_mag = mag_T[:, randtime:randtime+spec_len]\n",
        "    else:\n",
        "        spec_mag = mag_T\n",
        "    return spec_mag\n",
        "    \n",
        "    \n",
        "\n",
        "\n",
        "\n",
        "def speech_collate(batch):\n",
        "    targets = []\n",
        "    specs = []\n",
        "    for sample in batch:\n",
        "        specs.append(sample['features'])\n",
        "        targets.append((sample['labels']))\n",
        "    return specs, targets"
      ]
    },
    {
      "cell_type": "markdown",
      "metadata": {
        "id": "FZTJukZ0j4Nr"
      },
      "source": [
        "## SpeechDataGenerator"
      ]
    },
    {
      "cell_type": "code",
      "execution_count": 7,
      "metadata": {
        "id": "gjvylivejY_y"
      },
      "outputs": [],
      "source": [
        "class SpeechDataGenerator():\n",
        "    \"\"\"Speech dataset.\"\"\"\n",
        "\n",
        "    def __init__(self, manifest, mode='train'):\n",
        "        \"\"\"\n",
        "        Read the textfile and get the paths\n",
        "        \"\"\"\n",
        "        \n",
        "        # [line.rstrip('\\n').split(' ')[0]\n",
        "        self.mode=mode\n",
        "        self.audio_links = [\" \".join(line.rstrip('\\n').split(' ')[:-1]) for line in open(manifest)]\n",
        "        self.labels = [int(line.rstrip('\\n').split(' ')[-1]) for line in open(manifest)]\n",
        "        \n",
        "\n",
        "    def __len__(self):\n",
        "        return len(self.audio_links)\n",
        "\n",
        "    def __getitem__(self, idx):\n",
        "        audio_link =self.audio_links[idx]\n",
        "        class_id = self.labels[idx]\n",
        "        #lang_label=lang_id[self.audio_links[idx].split('/')[-2]]\n",
        "        spec = load_data(audio_link,mode=self.mode)\n",
        "        sample = {'features': torch.from_numpy(np.ascontiguousarray(spec)), 'labels': torch.from_numpy(np.ascontiguousarray(class_id))}\n",
        "        return sample"
      ]
    },
    {
      "cell_type": "markdown",
      "metadata": {
        "id": "iZM6lFNOlwL6"
      },
      "source": [
        "## Train X Vector"
      ]
    },
    {
      "cell_type": "code",
      "execution_count": 9,
      "metadata": {
        "id": "idauk9yWlyJs"
      },
      "outputs": [],
      "source": [
        "torch.multiprocessing.set_sharing_strategy('file_system')\n",
        "\n",
        "########## Argument parser\n",
        "\n",
        "training_filepath = '/content/drive/My Drive/10_lang_wav_files/train_10_lang.txt'\n",
        "testing_filepath = '/content/drive/My Drive/10_lang_wav_files/test_10_lang.txt'\n",
        "validation_filepath = '/content/drive/My Drive/10_lang_wav_files/validation_10_lang.txt'\n",
        "input_dim = 257\n",
        "num_classes = 10\n",
        "lamda_val = 0.5\n",
        "batch_size = 100\n",
        "use_gpu = True\n",
        "num_epochs = 100\n",
        "\n",
        "### Data related\n",
        "dataset_train = SpeechDataGenerator(manifest=training_filepath, mode='train')\n",
        "dataloader_train = DataLoader(dataset_train, batch_size=batch_size, shuffle=True, collate_fn=speech_collate)\n",
        "\n",
        "dataset_val = SpeechDataGenerator(manifest=validation_filepath, mode='train')\n",
        "dataloader_val = DataLoader(dataset_train, batch_size=batch_size, shuffle=True, collate_fn=speech_collate)\n",
        "\n",
        "dataset_test = SpeechDataGenerator(manifest=testing_filepath, mode='test')\n",
        "dataloader_test = DataLoader(dataset_test, batch_size=batch_size, shuffle=True, collate_fn=speech_collate)\n",
        "\n",
        "## Model related\n",
        "use_cuda = torch.cuda.is_available()\n",
        "device = torch.device(\"cuda\" if use_cuda else \"cpu\")\n",
        "model = X_vector(input_dim, num_classes).to(device)\n",
        "optimizer = optim.Adam(model.parameters(), lr=0.001, weight_decay=0.0, betas=(0.9, 0.98), eps=1e-9)\n",
        "loss_fun = nn.CrossEntropyLoss()\n",
        "\n",
        "\n",
        "def train(dataloader_train, epoch):\n",
        "    train_loss_list = []\n",
        "    full_preds = []\n",
        "    full_gts = []\n",
        "    model.train()\n",
        "\n",
        "    print(\"batch: \")\n",
        "    for i_batch, sample_batched in enumerate(dataloader_train):\n",
        "        print(str(i_batch+1)+\" \", end='')\n",
        "\n",
        "        features = torch.from_numpy(np.asarray([torch_tensor.numpy().T for torch_tensor in sample_batched[0]])).float()\n",
        "        labels = torch.from_numpy(np.asarray([torch_tensor[0].numpy() for torch_tensor in sample_batched[1]]))\n",
        "        labels = labels.long()\n",
        "        features, labels = features.to(device), labels.to(device)\n",
        "        features.requires_grad = True\n",
        "        optimizer.zero_grad()\n",
        "        pred_logits, x_vec = model(features)\n",
        "        #### CE loss\n",
        "        loss = loss_fun(pred_logits, labels)\n",
        "        loss.backward()\n",
        "        optimizer.step()\n",
        "        train_loss_list.append(loss.item())\n",
        "        # train_acc_list.append(accuracy)\n",
        "        # if i_batch%10==0:\n",
        "        #    print('Loss {} after {} iteration'.format(np.mean(np.asarray(train_loss_list)),i_batch))\n",
        "\n",
        "        predictions = np.argmax(pred_logits.detach().cpu().numpy(), axis=1)\n",
        "        for pred in predictions:\n",
        "            full_preds.append(pred)\n",
        "        for lab in labels.detach().cpu().numpy():\n",
        "            full_gts.append(lab)\n",
        "\n",
        "    mean_acc = accuracy_score(full_gts, full_preds)\n",
        "    mean_loss = np.mean(np.asarray(train_loss_list))\n",
        "    print('Total training loss {} and training Accuracy {} after {} epochs'.format(mean_loss, mean_acc, epoch))\n",
        "\n",
        "    folder_path = '/content/drive/My Drive/saved_models'\n",
        "    model_save_path = f'{folder_path}/saved_model_{i_batch}.pth'\n",
        "    state_dict = {\n",
        "        'model': model.state_dict(),\n",
        "        'optimizer': optimizer.state_dict(),\n",
        "        'epoch': num_epochs\n",
        "    }\n",
        "    torch.save(state_dict, model_save_path)\n",
        "\n",
        "\n",
        "def validation(dataloader_val, epoch):\n",
        "    model.eval()\n",
        "    with torch.no_grad():\n",
        "        val_loss_list = []\n",
        "        full_preds = []\n",
        "        full_gts = []\n",
        "        for i_batch, sample_batched in enumerate(dataloader_val):\n",
        "            features = torch.from_numpy(\n",
        "                np.asarray([torch_tensor.numpy().T for torch_tensor in sample_batched[0]])).float()\n",
        "            labels = torch.from_numpy(np.asarray([torch_tensor[0].numpy() for torch_tensor in sample_batched[1]]))\n",
        "            labels = labels.long()\n",
        "            features, labels = features.to(device), labels.to(device)\n",
        "            pred_logits, x_vec = model(features)\n",
        "            #### CE loss\n",
        "            loss = loss_fun(pred_logits, labels)\n",
        "            val_loss_list.append(loss.item())\n",
        "            # train_acc_list.append(accuracy)\n",
        "            predictions = np.argmax(pred_logits.detach().cpu().numpy(), axis=1)\n",
        "            for pred in predictions:\n",
        "                full_preds.append(pred)\n",
        "            for lab in labels.detach().cpu().numpy():\n",
        "                full_gts.append(lab)\n",
        "\n",
        "        mean_acc = accuracy_score(full_gts, full_preds)\n",
        "        mean_loss = np.mean(np.asarray(val_loss_list))\n",
        "        print('Total validation loss {} and Validation accuracy {} after {} epochs'.format(mean_loss, mean_acc, epoch))"
      ]
    },
    {
      "cell_type": "code",
      "source": [],
      "metadata": {
        "id": "VZlEqcAb0e4d"
      },
      "execution_count": null,
      "outputs": []
    },
    {
      "cell_type": "markdown",
      "source": [
        "# TEST MODEL:\n"
      ],
      "metadata": {
        "id": "MEmNPLf5D0xY"
      }
    },
    {
      "cell_type": "code",
      "source": [
        "model_save_path = '/content/drive/My Drive/saved_model_97acc.pth'\n",
        "state_dict = torch.load(model_save_path)\n",
        "model.load_state_dict(state_dict['model'])\n",
        "optimizer.load_state_dict(state_dict['optimizer'])\n",
        "epoch = state_dict['epoch']"
      ],
      "metadata": {
        "id": "kai63pnd0e7S"
      },
      "execution_count": 10,
      "outputs": []
    },
    {
      "cell_type": "code",
      "source": [
        "import matplotlib.pyplot as plt\n",
        "import seaborn as sns\n",
        "from sklearn.metrics import confusion_matrix, accuracy_score, precision_score, recall_score, f1_score\n",
        "\n",
        "def test_1_file(dataloader_val, epoch=0):\n",
        "    model.eval()\n",
        "    with torch.no_grad():\n",
        "        val_loss_list = []\n",
        "        full_preds = []\n",
        "        full_gts = []\n",
        "        for i_batch, sample_batched in enumerate(dataloader_val):\n",
        "            features = torch.from_numpy(\n",
        "                np.asarray([torch_tensor.numpy().T for torch_tensor in sample_batched[0]])).float()\n",
        "            labels = torch.from_numpy(np.asarray([torch_tensor[0].numpy() for torch_tensor in sample_batched[1]]))\n",
        "            labels = labels.long()\n",
        "            print(f'labels: {labels}')\n",
        "            features, labels = features.to(device), labels.to(device)\n",
        "            pred_logits, x_vec = model(features)\n",
        "            #### CE loss\n",
        "            loss = loss_fun(pred_logits, labels)\n",
        "            val_loss_list.append(loss.item())\n",
        "            # train_acc_list.append(accuracy)\n",
        "            predictions = np.argmax(pred_logits.detach().cpu().numpy(), axis=1)\n",
        "            print(f'predictions: {predictions}')\n",
        "            for pred in predictions:\n",
        "                full_preds.append(pred)\n",
        "            for lab in labels.detach().cpu().numpy():\n",
        "                full_gts.append(lab)\n",
        "\n",
        "        mean_acc = accuracy_score(full_gts, full_preds)\n",
        "        mean_loss = np.mean(np.asarray(val_loss_list))\n",
        "        \n",
        "        # Confusion matrix\n",
        "        cm = np.zeros((10,10))\n",
        "        cm[full_gts[0]][full_preds[0]] = 1\n",
        "        # cm = confusion_matrix(full_gts, full_preds)\n",
        "        print(f'full_gts: {full_gts}')\n",
        "        print(f'full_preds: {full_preds}')\n",
        "        print(f'cm: {cm}')\n",
        "        # Accuracy for each class\n",
        "        class_acc = cm.diagonal() / cm.sum(axis=1)\n",
        "        class_names = ['Arabic', 'Spanish', 'Farsi', 'France', 'Hausa', 'Italian', 'Japanese', 'Russian', 'Thai', 'Chinese']\n",
        "        \n",
        "        # Recall, Precision, and F1 scores\n",
        "        recall = recall_score(full_gts, full_preds, average='macro')\n",
        "        precision = precision_score(full_gts, full_preds, average='macro')\n",
        "        f1 = f1_score(full_gts, full_preds, average='macro')\n",
        "        \n",
        "        # Convert confusion matrix values to percentages\n",
        "        cm_percent = cm.astype('float') / cm.sum(axis=1)[:, np.newaxis]\n",
        "        \n",
        "        # Heatmap of confusion matrix\n",
        "        plt.figure(figsize=(8, 6))\n",
        "        sns.heatmap(cm, annot=True, fmt=\".3f\", cmap=\"Blues\", xticklabels=class_names, yticklabels=class_names)\n",
        "        plt.title(\"Confusion Matrix\")\n",
        "        plt.xlabel(\"Predicted\")\n",
        "        plt.ylabel(\"True\")\n",
        "        plt.show()\n"
      ],
      "metadata": {
        "id": "wDi8JJp_DZe9"
      },
      "execution_count": 41,
      "outputs": []
    },
    {
      "cell_type": "code",
      "source": [
        "!pip install pydub"
      ],
      "metadata": {
        "colab": {
          "base_uri": "https://localhost:8080/"
        },
        "id": "rQvghphcH-bG",
        "outputId": "5dcacf4a-fba4-4d0b-87d8-3fef4c809a1b"
      },
      "execution_count": 12,
      "outputs": [
        {
          "output_type": "stream",
          "name": "stdout",
          "text": [
            "Looking in indexes: https://pypi.org/simple, https://us-python.pkg.dev/colab-wheels/public/simple/\n",
            "Collecting pydub\n",
            "  Downloading pydub-0.25.1-py2.py3-none-any.whl (32 kB)\n",
            "Installing collected packages: pydub\n",
            "Successfully installed pydub-0.25.1\n"
          ]
        }
      ]
    },
    {
      "cell_type": "code",
      "source": [
        "from google.colab import files\n",
        "import os\n",
        "from pydub import AudioSegment\n",
        "from google.colab import drive\n",
        "\n",
        "def convert_mp3_to_wav(file_path):\n",
        "    sound = AudioSegment.from_mp3(file_path)\n",
        "    fname_without_ext = os.path.splitext(file_path)[0]\n",
        "    wav_path = f\"{fname_without_ext}.wav\"\n",
        "    sound.export(wav_path, format=\"wav\")\n",
        "    # os.remove(file_path)\n",
        "    return wav_path"
      ],
      "metadata": {
        "id": "qT8owQyjHK01"
      },
      "execution_count": 13,
      "outputs": []
    },
    {
      "cell_type": "code",
      "source": [
        "wav_filename = convert_mp3_to_wav('/content/drive/My Drive/arb_test.mp3')\n",
        "\n",
        "# Define the destination folder in Google Drive\n",
        "drive_folder = '/content/drive/My Drive/'\n",
        "\n",
        "# Save the WAV file to the specified folder in Google Drive\n",
        "destination_path = os.path.join(drive_folder, wav_filename)\n",
        "os.rename(wav_filename, destination_path)\n",
        "\n",
        "label = input(\"Enter label [0-9]: \")\n",
        "\n",
        "print('File saved to Google Drive:', destination_path)\n",
        "\n",
        "# Create a text file containing the path of the saved WAV file\n",
        "text_filename = 'test_1_wav_file.txt'\n",
        "text_content = f'{destination_path} {label}'\n",
        "\n",
        "# Define the destination path for the text file\n",
        "text_destination_path = os.path.join(drive_folder, text_filename)\n",
        "\n",
        "# Write the content to the text file\n",
        "with open(text_destination_path, 'w') as file:\n",
        "    file.write(text_content)\n",
        "\n",
        "print('Text file saved to Google Drive:', text_destination_path)\n",
        "\n",
        "batch_size = 1\n",
        "\n",
        "test_filepath = '/content/drive/My Drive/test_1_wav_file.txt'\n",
        "dataset_test = SpeechDataGenerator(manifest=test_filepath)\n",
        "dataloader_test = DataLoader(dataset_test, batch_size=batch_size, shuffle=True, collate_fn=speech_collate)\n",
        "test_1_file(dataloader_test)"
      ],
      "metadata": {
        "colab": {
          "base_uri": "https://localhost:8080/",
          "height": 1000
        },
        "id": "i20dxHiJL0VU",
        "outputId": "63c488c3-11c6-401f-a3d2-405b5b956f37"
      },
      "execution_count": 47,
      "outputs": [
        {
          "output_type": "stream",
          "name": "stdout",
          "text": [
            "Enter label [0-9]: 0\n",
            "File saved to Google Drive: /content/drive/My Drive/arb_test.wav\n",
            "Text file saved to Google Drive: /content/drive/My Drive/test_1_wav_file.txt\n",
            "labels: tensor([0])\n",
            "predictions: [8]\n",
            "full_gts: [0]\n",
            "full_preds: [8]\n",
            "cm: [[0. 0. 0. 0. 0. 0. 0. 0. 1. 0.]\n",
            " [0. 0. 0. 0. 0. 0. 0. 0. 0. 0.]\n",
            " [0. 0. 0. 0. 0. 0. 0. 0. 0. 0.]\n",
            " [0. 0. 0. 0. 0. 0. 0. 0. 0. 0.]\n",
            " [0. 0. 0. 0. 0. 0. 0. 0. 0. 0.]\n",
            " [0. 0. 0. 0. 0. 0. 0. 0. 0. 0.]\n",
            " [0. 0. 0. 0. 0. 0. 0. 0. 0. 0.]\n",
            " [0. 0. 0. 0. 0. 0. 0. 0. 0. 0.]\n",
            " [0. 0. 0. 0. 0. 0. 0. 0. 0. 0.]\n",
            " [0. 0. 0. 0. 0. 0. 0. 0. 0. 0.]]\n"
          ]
        },
        {
          "output_type": "stream",
          "name": "stderr",
          "text": [
            "<ipython-input-41-8531714549c9>:41: RuntimeWarning: invalid value encountered in true_divide\n",
            "  class_acc = cm.diagonal() / cm.sum(axis=1)\n",
            "/usr/local/lib/python3.10/dist-packages/sklearn/metrics/_classification.py:1344: UndefinedMetricWarning: Recall is ill-defined and being set to 0.0 in labels with no true samples. Use `zero_division` parameter to control this behavior.\n",
            "  _warn_prf(average, modifier, msg_start, len(result))\n",
            "/usr/local/lib/python3.10/dist-packages/sklearn/metrics/_classification.py:1344: UndefinedMetricWarning: Precision is ill-defined and being set to 0.0 in labels with no predicted samples. Use `zero_division` parameter to control this behavior.\n",
            "  _warn_prf(average, modifier, msg_start, len(result))\n",
            "<ipython-input-41-8531714549c9>:50: RuntimeWarning: invalid value encountered in true_divide\n",
            "  cm_percent = cm.astype('float') / cm.sum(axis=1)[:, np.newaxis]\n"
          ]
        },
        {
          "output_type": "display_data",
          "data": {
            "text/plain": [
              "<Figure size 800x600 with 2 Axes>"
            ],
            "image/png": "[encoded data removed]"
          },
          "metadata": {}
        }
      ]
    },
    {
      "cell_type": "code",
      "source": [
        "# test_filepath = '/content/drive/My Drive/test_2_wav_file.txt'\n",
        "# dataset_test = SpeechDataGenerator(manifest=test_filepath)\n",
        "# dataloader_test = DataLoader(dataset_test, batch_size=batch_size, shuffle=True, collate_fn=speech_collate)\n",
        "# test_1_file(dataloader_test)"
      ],
      "metadata": {
        "id": "-eSvXcp-LIC1"
      },
      "execution_count": null,
      "outputs": []
    }
  ],
  "metadata": {
    "accelerator": "GPU",
    "colab": {
      "provenance": [],
      "collapsed_sections": [
        "c146e5-shGBG",
        "rcpi_IJdhLAL",
        "UmFsaK-ijzkT",
        "FZTJukZ0j4Nr"
      ],
      "gpuType": "T4"
    },
    "gpuClass": "standard",
    "kernelspec": {
      "display_name": "Python 3",
      "name": "python3"
    },
    "language_info": {
      "name": "python"
    }
  },
  "nbformat": 4,
  "nbformat_minor": 0
}